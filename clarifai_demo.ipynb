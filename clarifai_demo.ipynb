{
 "cells": [
  {
   "cell_type": "code",
   "execution_count": 1,
   "metadata": {},
   "outputs": [],
   "source": [
    "import json\n",
    "from clarifai.rest import ClarifaiApp\n",
    "from clarifai.rest import Image as ClImage\n",
    "\n",
    "CLARIFAI_API_KEY = json.load(open('secret.json'))['CLARIFAI_API_KEY']"
   ]
  },
  {
   "cell_type": "code",
   "execution_count": 2,
   "metadata": {},
   "outputs": [],
   "source": [
    "app = ClarifaiApp(api_key=CLARIFAI_API_KEY)\n",
    "model = app.models.get('general-v1.3')\n",
    "\n",
    "image_fn = 'data/leftover_pizza.jpg'\n",
    "\n",
    "image = ClImage(file_obj=open(image_fn, 'rb'))"
   ]
  },
  {
   "cell_type": "code",
   "execution_count": 3,
   "metadata": {},
   "outputs": [],
   "source": [
    "result = model.predict([image])\n",
    "tags_and_confidences = [(concept['name'], concept['value']) for concept in result['outputs'][0]['data']['concepts']]\n",
    "\n",
    "# write response json to json file\n",
    "with open('{}_result.json'.format('.'.join(image_fn.split('.')[:-1])), 'w') as fhandle:\n",
    "    fhandle.write(json.dumps(result, indent=4, sort_keys=True))\n",
    "    \n",
    "# write tag and confidence pairs to tab-separated file\n",
    "with open('{}_tags.tsv'.format('.'.join(image_fn.split('.')[:-1])), 'w') as fhandle:\n",
    "    fhandle.write('\\n'.join(['{}\\t{}'.format(pair[0], pair[1]) for pair in tags_and_confidences]))"
   ]
  },
  {
   "cell_type": "code",
   "execution_count": null,
   "metadata": {},
   "outputs": [],
   "source": []
  }
 ],
 "metadata": {
  "kernelspec": {
   "display_name": "Python 3",
   "language": "python",
   "name": "python3"
  },
  "language_info": {
   "codemirror_mode": {
    "name": "ipython",
    "version": 3
   },
   "file_extension": ".py",
   "mimetype": "text/x-python",
   "name": "python",
   "nbconvert_exporter": "python",
   "pygments_lexer": "ipython3",
   "version": "3.6.4"
  }
 },
 "nbformat": 4,
 "nbformat_minor": 2
}
